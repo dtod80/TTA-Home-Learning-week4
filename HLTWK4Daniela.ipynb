{
 "cells": [
  {
   "cell_type": "code",
   "execution_count": 97,
   "metadata": {},
   "outputs": [],
   "source": [
    "# Task 1  Write a program that allow you to enter 4 numbers and stores them in a file called \"Numbers\" \n",
    "my_file = open(\"Numbers.txt\",\"w\")\n",
    "my_file.write(\"* 3 \\n* 45 \\n* 83\\n* 21\\n\")\n",
    "my_file.close()"
   ]
  },
  {
   "cell_type": "code",
   "execution_count": null,
   "metadata": {},
   "outputs": [],
   "source": [
    "# Task 2 Write a program to ask a student for their percentage mark and convert this to a grade.\n",
    "# The conversion will be done in a functin called mark_grade\n",
    "\n",
    "# I have to think about this one and I'll sent it in homework for next week. Thank you!"
   ]
  },
  {
   "cell_type": "code",
   "execution_count": 11,
   "metadata": {},
   "outputs": [
    {
     "name": "stdout",
     "output_type": "stream",
     "text": [
      "[0 1 2 3 4 5 6 7 8 9]\n"
     ]
    }
   ],
   "source": [
    "# 1. Create a 1D array of numbers from 0 to 9\n",
    "\n",
    "import numpy as np\n",
    "array = np.array([0,1,2,3,4,5,6,7,8,9])\n",
    "print(array)"
   ]
  },
  {
   "cell_type": "code",
   "execution_count": 10,
   "metadata": {},
   "outputs": [
    {
     "name": "stdout",
     "output_type": "stream",
     "text": [
      "[0 1 2 3 4 5 6 7 8 9]\n"
     ]
    }
   ],
   "source": [
    "array = np.arange (0,10)\n",
    "print(array)"
   ]
  },
  {
   "cell_type": "code",
   "execution_count": 36,
   "metadata": {},
   "outputs": [
    {
     "name": "stdout",
     "output_type": "stream",
     "text": [
      "[[ True  True  True]\n",
      " [ True  True  True]\n",
      " [ True  True  True]]\n"
     ]
    }
   ],
   "source": [
    "# 2. Create a 3x3 NumPy array of a Boolean value Trues\n",
    "# array = np.array([true,])\n",
    "a = np.ones((9),dtype=bool).reshape(3,3)\n",
    "print(a)"
   ]
  },
  {
   "cell_type": "code",
   "execution_count": 50,
   "metadata": {},
   "outputs": [
    {
     "name": "stdout",
     "output_type": "stream",
     "text": [
      "[[False False False]\n",
      " [False False False]\n",
      " [False False False]]\n"
     ]
    }
   ],
   "source": [
    "b = np.zeros((3,3),dtype=bool)\n",
    "print(b)"
   ]
  },
  {
   "cell_type": "code",
   "execution_count": 13,
   "metadata": {},
   "outputs": [
    {
     "name": "stdout",
     "output_type": "stream",
     "text": [
      "[1 3 5 7 9]\n"
     ]
    }
   ],
   "source": [
    "# 3. Extract all odd numbers from array of 1-10 \n",
    "a = np.arange(1,10,2)\n",
    "print(a)"
   ]
  },
  {
   "cell_type": "code",
   "execution_count": 44,
   "metadata": {},
   "outputs": [
    {
     "name": "stdout",
     "output_type": "stream",
     "text": [
      "[-1  2 -1  4 -1  6 -1  8 -1]\n"
     ]
    }
   ],
   "source": [
    "# 4. Replace all odd numbers in a array of 1-10 with a value -1\n",
    "array = np.arange(1,10)\n",
    "odd_number = np.where(array%2 == 1)\n",
    "array[odd_number] = -1\n",
    "print(array)"
   ]
  },
  {
   "cell_type": "code",
   "execution_count": 45,
   "metadata": {},
   "outputs": [
    {
     "name": "stdout",
     "output_type": "stream",
     "text": [
      "[ 1  2  3  4  5  6  7  8  9 10]\n",
      "[[ 1  2  3  4  5]\n",
      " [ 6  7  8  9 10]]\n"
     ]
    }
   ],
   "source": [
    "# 5. Convert a 1D array to a 2D array with 2 rows\n",
    "a = np.arange(1,11)\n",
    "print(a)\n",
    "reshape_a = np.arange(1,11).reshape(2,5)\n",
    "print(reshape_a)"
   ]
  },
  {
   "cell_type": "code",
   "execution_count": 16,
   "metadata": {},
   "outputs": [
    {
     "name": "stdout",
     "output_type": "stream",
     "text": [
      "[[ 0  1  2]\n",
      " [ 3  4  5]\n",
      " [ 6  7  8]\n",
      " [10 11 12]\n",
      " [13 14 15]\n",
      " [16 17 18]]\n",
      "[[ 45  48  51]\n",
      " [162 174 186]\n",
      " [279 300 321]]\n",
      "1566\n"
     ]
    }
   ],
   "source": [
    "# 6. Create two arrays a and b, stack these two arrays vertically use the np.dot and np.sum to calculate totats\n",
    "a = np.arange(0,9).reshape(3,3)\n",
    "b = np.arange(10,19).reshape(3,3)\n",
    "c =np.vstack((a,b))\n",
    "print(c)\n",
    "dot = np.dot(a,b)\n",
    "sum = np.sum(dot)\n",
    "print(dot)\n",
    "print(sum)\n"
   ]
  },
  {
   "cell_type": "code",
   "execution_count": 96,
   "metadata": {},
   "outputs": [
    {
     "name": "stdout",
     "output_type": "stream",
     "text": [
      "[1. 1. 1.]\n",
      "[2. 2. 2.]\n",
      "[3. 3. 3.]\n",
      "[1 2 3]\n",
      "[1. 1. 1. 2. 2. 2. 3. 3. 3. 1. 2. 3. 1. 2. 3. 1. 2. 3.]\n",
      "[1. 1. 1. 2. 2. 2. 3. 3. 3. 1. 2. 3. 1. 2. 3. 1. 2. 3.]\n"
     ]
    }
   ],
   "source": [
    "#extension1 \n",
    "#list1 = np.ones((1,3), dtype=int)\n",
    "#list2 = list1 + list1\n",
    "#list3 = list1 * 3\n",
    "#list4 = np.arange(1,4)\n",
    "list1 = np.ones(3)\n",
    "list2 = list1 + list1\n",
    "list3 = list2 + list1\n",
    "list4 = np.arange(1,4)\n",
    "print(list1)\n",
    "print(list2)\n",
    "print(list3)\n",
    "print(list4)\n",
    "\n",
    "\n",
    "pattern = np.concatenate((list1 , list2, list3, list4, list4, list4))\n",
    "print(pattern)\n",
    "\n",
    "tile = np.tile(list4, 3)\n",
    "pattern_tile = np.concatenate((list1 , list2, list3, tile))\n",
    "print(pattern_tile)\n"
   ]
  },
  {
   "cell_type": "code",
   "execution_count": 56,
   "metadata": {},
   "outputs": [
    {
     "name": "stdout",
     "output_type": "stream",
     "text": [
      "[[1. 1. 1.]]\n"
     ]
    }
   ],
   "source": [
    "list1 = np.ones(3).reshape(1,3)\n",
    "print (list1)"
   ]
  },
  {
   "cell_type": "code",
   "execution_count": 86,
   "metadata": {},
   "outputs": [
    {
     "name": "stdout",
     "output_type": "stream",
     "text": [
      "[1 2 3 4 5 6 7 8 9]\n"
     ]
    }
   ],
   "source": [
    "#extension2\n",
    "a = np.array([1,2,3,4,5])\n",
    "b = np.array([4,5,6,7,8,9])\n",
    "new_b = (b[2:]) \n",
    "#print(new_b)\n",
    "combine = np.concatenate((a,new_b))\n",
    "print(combine)"
   ]
  },
  {
   "cell_type": "code",
   "execution_count": 74,
   "metadata": {},
   "outputs": [
    {
     "name": "stdout",
     "output_type": "stream",
     "text": [
      "[1 2 3 4 5 6 7 8 9]\n"
     ]
    }
   ],
   "source": [
    "a = np.array([1,2,3,4,5])\n",
    "b = np.array([4,5,6,7,8,9])\n",
    "combine = np.concatenate((a,b))\n",
    "combine = np.unique(combine)\n",
    "\n",
    "print(combine)\n"
   ]
  },
  {
   "cell_type": "code",
   "execution_count": 85,
   "metadata": {},
   "outputs": [
    {
     "name": "stdout",
     "output_type": "stream",
     "text": [
      "27\n"
     ]
    }
   ],
   "source": [
    "#exension3\n",
    "a = np.array([1,2,3,4,5])\n",
    "b = np.array([4,5,6,7,8,9])\n",
    "new_a = (a[2:])\n",
    "new_b = (b[:3])\n",
    "combine = np.concatenate((new_a,new_b))\n",
    "x = np.sum(combine)\n",
    "print(x)\n",
    "\n"
   ]
  }
 ],
 "metadata": {
  "interpreter": {
   "hash": "aee8b7b246df8f9039afb4144a1f6fd8d2ca17a180786b69acc140d282b71a49"
  },
  "kernelspec": {
   "display_name": "Python 3.10.2 64-bit",
   "language": "python",
   "name": "python3"
  },
  "language_info": {
   "codemirror_mode": {
    "name": "ipython",
    "version": 3
   },
   "file_extension": ".py",
   "mimetype": "text/x-python",
   "name": "python",
   "nbconvert_exporter": "python",
   "pygments_lexer": "ipython3",
   "version": "3.10.2"
  },
  "orig_nbformat": 4
 },
 "nbformat": 4,
 "nbformat_minor": 2
}
